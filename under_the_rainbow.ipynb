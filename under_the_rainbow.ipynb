{
 "cells": [
  {
   "cell_type": "markdown",
   "id": "72885977",
   "metadata": {},
   "source": [
    "Project Euler Problem 493: UNDER THE RAINBOW\n",
    "\n",
    "70 coloured balls are placed in an urn, 10 for each of the seven rainbow colours.\n",
    "What is the expected number of distinct colours in 20 randomly picked balls?\n",
    "Give your answer with nine digits after the decimal point (a.bcdefghij)."
   ]
  },
  {
   "cell_type": "code",
   "execution_count": 18,
   "id": "6671f824",
   "metadata": {},
   "outputs": [
    {
     "name": "stdout",
     "output_type": "stream",
     "text": [
      "6.818741802\n"
     ]
    }
   ],
   "source": [
    "import math\n",
    "\n",
    "BALLS_PER_COLOUR = 10\n",
    "NUM_COLOURS = 7\n",
    "NUM_BALLS = BALLS_PER_COLOUR * NUM_COLOURS\n",
    "\n",
    "\n",
    "def solution(num_picks):\n",
    "\n",
    "    total = math.comb(NUM_BALLS, num_picks)\n",
    "    missing_colour = math.comb(NUM_BALLS - BALLS_PER_COLOUR, num_picks)\n",
    "\n",
    "    result = NUM_COLOURS * (1 - missing_colour / total)\n",
    "\n",
    "    return f\"{result:.9f}\"\n",
    "\n",
    "print(solution(20))"
   ]
  }
 ],
 "metadata": {
  "kernelspec": {
   "display_name": "Python 3 (ipykernel)",
   "language": "python",
   "name": "python3"
  },
  "language_info": {
   "codemirror_mode": {
    "name": "ipython",
    "version": 3
   },
   "file_extension": ".py",
   "mimetype": "text/x-python",
   "name": "python",
   "nbconvert_exporter": "python",
   "pygments_lexer": "ipython3",
   "version": "3.9.6"
  },
  "nbTranslate": {
   "displayLangs": [
    "*"
   ],
   "hotkey": "alt-t",
   "langInMainMenu": true,
   "sourceLang": "ru",
   "targetLang": "en",
   "useGoogleTranslate": true
  },
  "toc": {
   "base_numbering": 1,
   "nav_menu": {},
   "number_sections": true,
   "sideBar": true,
   "skip_h1_title": false,
   "title_cell": "Table of Contents",
   "title_sidebar": "Contents",
   "toc_cell": false,
   "toc_position": {},
   "toc_section_display": true,
   "toc_window_display": false
  }
 },
 "nbformat": 4,
 "nbformat_minor": 5
}
